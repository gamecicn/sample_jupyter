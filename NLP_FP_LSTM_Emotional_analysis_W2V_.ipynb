{
  "nbformat": 4,
  "nbformat_minor": 0,
  "metadata": {
    "colab": {
      "name": "NLP FP LSTM Emotional analysis_W2V .ipynb",
      "provenance": [],
      "collapsed_sections": [],
      "toc_visible": true,
      "authorship_tag": "ABX9TyPvvNW99fCBnrQKvlipwDVh",
      "include_colab_link": true
    },
    "kernelspec": {
      "name": "python3",
      "display_name": "Python 3"
    },
    "accelerator": "GPU"
  },
  "cells": [
    {
      "cell_type": "markdown",
      "metadata": {
        "id": "view-in-github",
        "colab_type": "text"
      },
      "source": [
        "<a href=\"https://colab.research.google.com/github/gamecicn/sample_jupyter/blob/main/NLP_FP_LSTM_Emotional_analysis_W2V_.ipynb\" target=\"_parent\"><img src=\"https://colab.research.google.com/assets/colab-badge.svg\" alt=\"Open In Colab\"/></a>"
      ]
    },
    {
      "cell_type": "code",
      "metadata": {
        "id": "asDAvqkwj4hV"
      },
      "source": [
        "# NLP FP Emotional analysis"
      ],
      "execution_count": null,
      "outputs": []
    },
    {
      "cell_type": "code",
      "metadata": {
        "id": "gAebpWgwkWCi",
        "outputId": "5d461e3e-dab9-431c-8d5e-83c888a6ddb7",
        "colab": {
          "base_uri": "https://localhost:8080/",
          "height": 291
        }
      },
      "source": [
        "# Install\n",
        "!pip install numpy==1.16.2\n"
      ],
      "execution_count": 1,
      "outputs": [
        {
          "output_type": "stream",
          "text": [
            "Collecting numpy==1.16.2\n",
            "\u001b[?25l  Downloading https://files.pythonhosted.org/packages/35/d5/4f8410ac303e690144f0a0603c4b8fd3b986feb2749c435f7cdbb288f17e/numpy-1.16.2-cp36-cp36m-manylinux1_x86_64.whl (17.3MB)\n",
            "\u001b[K     |████████████████████████████████| 17.3MB 199kB/s \n",
            "\u001b[31mERROR: umap-learn 0.4.6 has requirement numpy>=1.17, but you'll have numpy 1.16.2 which is incompatible.\u001b[0m\n",
            "\u001b[31mERROR: datascience 0.10.6 has requirement folium==0.2.1, but you'll have folium 0.8.3 which is incompatible.\u001b[0m\n",
            "\u001b[31mERROR: albumentations 0.1.12 has requirement imgaug<0.2.7,>=0.2.5, but you'll have imgaug 0.2.9 which is incompatible.\u001b[0m\n",
            "\u001b[?25hInstalling collected packages: numpy\n",
            "  Found existing installation: numpy 1.18.5\n",
            "    Uninstalling numpy-1.18.5:\n",
            "      Successfully uninstalled numpy-1.18.5\n",
            "Successfully installed numpy-1.16.2\n"
          ],
          "name": "stdout"
        },
        {
          "output_type": "display_data",
          "data": {
            "application/vnd.colab-display-data+json": {
              "pip_warning": {
                "packages": [
                  "numpy"
                ]
              }
            }
          },
          "metadata": {
            "tags": []
          }
        }
      ]
    },
    {
      "cell_type": "code",
      "metadata": {
        "id": "tyRfktHBkPPE"
      },
      "source": [
        "# Setup\n",
        "\n",
        "\n",
        "\n",
        "# All the imports!\n",
        "\n",
        "import numpy as np\n",
        "from numpy import array\n",
        "\n",
        "import tensorflow as tf \n",
        "from tensorflow.keras.preprocessing import sequence\n",
        "from keras.callbacks import LambdaCallback\n",
        "from keras.layers.recurrent import LSTM\n",
        "from keras.layers.embeddings import Embedding\n",
        "from keras.layers import Dense, Activation\n",
        "from keras.models import Sequential\n",
        "\n",
        " \n",
        "# Supress deprecation warnings\n",
        "import logging\n",
        "logging.getLogger('tensorflow').disabled = True\n"
      ],
      "execution_count": 4,
      "outputs": []
    },
    {
      "cell_type": "code",
      "metadata": {
        "id": "NIKaXvVQk3br",
        "outputId": "6ffd82a8-fae9-4471-a04a-6ac69c161db4",
        "colab": {
          "base_uri": "https://localhost:8080/"
        }
      },
      "source": [
        "# Mount google drive\n",
        "from google.colab import drive\n",
        "\n",
        "drive.mount('/content/drive')"
      ],
      "execution_count": 5,
      "outputs": [
        {
          "output_type": "stream",
          "text": [
            "Mounted at /content/drive\n"
          ],
          "name": "stdout"
        }
      ]
    },
    {
      "cell_type": "markdown",
      "metadata": {
        "id": "uPHyAevFv3C1"
      },
      "source": [
        "## Sklearn import data\n"
      ]
    },
    {
      "cell_type": "code",
      "metadata": {
        "id": "CwzaemQLv1cB"
      },
      "source": [
        "import pandas as pd\n",
        "from sklearn.model_selection import train_test_split\n",
        "\n",
        "df = pd.read_csv(\"/content/drive/My Drive/DS_data/ISEAR_clean.csv\", sep=\",\")\n",
        "df.dropna(inplace=True)\n",
        "\n",
        "labels = df.emotion.factorize()\n",
        "labels_index = labels[1]\n",
        "df['emotion'] = labels[0]\n",
        "\n",
        "training_data, testing_data, y_train, y_test = train_test_split(df.text, df.emotion, test_size=0.1, random_state=123, shuffle=True)"
      ],
      "execution_count": 24,
      "outputs": []
    },
    {
      "cell_type": "code",
      "metadata": {
        "id": "JyF1OjoVzyt5",
        "outputId": "3078b88a-85b2-4640-efbd-545fef1812ea",
        "colab": {
          "base_uri": "https://localhost:8080/"
        }
      },
      "source": [
        "training_data.head(5)"
      ],
      "execution_count": 25,
      "outputs": [
        {
          "output_type": "execute_result",
          "data": {
            "text/plain": [
              "5302    When I heard that a woman of my community had ...\n",
              "6550    It was on 9th January 1983 when I received a m...\n",
              "2031    I was in about Grade 7, I came home from schoo...\n",
              "3918    A terrible cloud-burst started when we were ca...\n",
              "1114    [ When after a night of sleeping in another's ...\n",
              "Name: text, dtype: object"
            ]
          },
          "metadata": {
            "tags": []
          },
          "execution_count": 25
        }
      ]
    },
    {
      "cell_type": "code",
      "metadata": {
        "id": "1Y8CFJhx2Suf",
        "outputId": "fd84e735-0c2b-4fd4-9b8d-69e1a9ddcc47",
        "colab": {
          "base_uri": "https://localhost:8080/"
        }
      },
      "source": [
        "y_train.head(5)"
      ],
      "execution_count": 26,
      "outputs": [
        {
          "output_type": "execute_result",
          "data": {
            "text/plain": [
              "5302    4\n",
              "6550    3\n",
              "2031    1\n",
              "3918    1\n",
              "1114    3\n",
              "Name: emotion, dtype: int64"
            ]
          },
          "metadata": {
            "tags": []
          },
          "execution_count": 26
        }
      ]
    },
    {
      "cell_type": "code",
      "metadata": {
        "id": "DlqbTWdGNhiC",
        "outputId": "bb3ad858-5d47-494d-a14e-e26ca3a58b6e",
        "colab": {
          "base_uri": "https://localhost:8080/"
        }
      },
      "source": [
        "labels_index"
      ],
      "execution_count": 27,
      "outputs": [
        {
          "output_type": "execute_result",
          "data": {
            "text/plain": [
              "Index(['joy', 'fear', 'anger', 'sadness', 'disgust', 'shame', 'guilt'], dtype='object')"
            ]
          },
          "metadata": {
            "tags": []
          },
          "execution_count": 27
        }
      ]
    },
    {
      "cell_type": "markdown",
      "metadata": {
        "id": "PuMSCRm8ubXT"
      },
      "source": [
        "## Pre-processing Data"
      ]
    },
    {
      "cell_type": "markdown",
      "metadata": {
        "id": "en_zA75RDWeI"
      },
      "source": [
        "### TF-IDF"
      ]
    },
    {
      "cell_type": "code",
      "metadata": {
        "id": "BdJqaAE1ufG3",
        "outputId": "30265e6d-85bc-4d9a-cf1a-4afc5b25d356",
        "colab": {
          "base_uri": "https://localhost:8080/",
          "height": 69
        }
      },
      "source": [
        "'''\n",
        "from sklearn.feature_extraction.text import TfidfVectorizer\n",
        "\n",
        "# extract features\n",
        "vectorizer1 = TfidfVectorizer(stop_words = \"english\")\n",
        "x_train = vectorizer1.fit_transform(training_data)\n",
        "# Use training data's vocabulary to create test tf-idf matrix\n",
        "vectorizer2 = TfidfVectorizer(stop_words = \"english\",vocabulary=vectorizer1.vocabulary_)\n",
        "x_test = vectorizer2.fit_transform(testing_data)\n",
        "\n",
        "vocab_size = x_train.shape[1]\n",
        "review_length = 500\n",
        "\n",
        "print(\"vocab_size : {}\".format(vocab_size))\n",
        "'''\n",
        "\n"
      ],
      "execution_count": null,
      "outputs": [
        {
          "output_type": "execute_result",
          "data": {
            "application/vnd.google.colaboratory.intrinsic+json": {
              "type": "string"
            },
            "text/plain": [
              "'\\nfrom sklearn.feature_extraction.text import TfidfVectorizer\\n\\n# extract features\\nvectorizer1 = TfidfVectorizer(stop_words = \"english\")\\nx_train = vectorizer1.fit_transform(training_data)\\n# Use training data\\'s vocabulary to create test tf-idf matrix\\nvectorizer2 = TfidfVectorizer(stop_words = \"english\",vocabulary=vectorizer1.vocabulary_)\\nx_test = vectorizer2.fit_transform(testing_data)\\n\\nvocab_size = x_train.shape[1]\\nreview_length = 500\\n\\nprint(\"vocab_size : {}\".format(vocab_size))\\n'"
            ]
          },
          "metadata": {
            "tags": []
          },
          "execution_count": 51
        }
      ]
    },
    {
      "cell_type": "markdown",
      "metadata": {
        "id": "diHy2UmEDYgU"
      },
      "source": [
        "### Wrod2Vec"
      ]
    },
    {
      "cell_type": "code",
      "metadata": {
        "id": "Wkhycd1KDbZV",
        "outputId": "23807e2b-1add-4703-f2e7-ecc08a3971f8",
        "colab": {
          "base_uri": "https://localhost:8080/"
        }
      },
      "source": [
        "import gensim\n",
        "\n",
        "print('\\nTraining word2vec...')\n",
        " \n",
        "\n",
        "max_sentence_len = max([ len(x) for x in df[\"text\"] ])\n",
        "\n",
        "word_model = gensim.models.Word2Vec(df[\"text\"], size=100, min_count=1, window=5, iter=100)\n",
        "pretrained_weights = word_model.wv.syn0\n",
        "vocab_size, emdedding_size = pretrained_weights.shape\n",
        "print('Result embedding shape:', pretrained_weights.shape)\n",
        "\n",
        "def word2idx(word):\n",
        "  return word_model.wv.vocab[word].index\n",
        "def idx2word(idx):\n",
        "  return word_model.wv.index2word[idx]\n",
        "\n",
        "print('\\nPreparing the data for LSTM...')\n",
        "\n",
        "x_train = np.zeros([len(training_data), max_sentence_len], dtype=np.int32)\n",
        "for i, sentence in enumerate(training_data):\n",
        "  for t, word in enumerate(sentence):\n",
        "    x_train[i, t] = word2idx(word)\n",
        "print('x_train shape:', x_train.shape)\n",
        "\n",
        "\n",
        "x_test = np.zeros([len(testing_data), max_sentence_len], dtype=np.int32)\n",
        "for i, sentence in enumerate(testing_data):\n",
        "  for t, word in enumerate(sentence):\n",
        "    x_test[i, t] = word2idx(word)\n",
        "print('x_test shape:', x_test.shape)\n",
        "\n"
      ],
      "execution_count": 31,
      "outputs": [
        {
          "output_type": "stream",
          "text": [
            "\n",
            "Training word2vec...\n"
          ],
          "name": "stdout"
        },
        {
          "output_type": "stream",
          "text": [
            "/usr/local/lib/python3.6/dist-packages/ipykernel_launcher.py:9: DeprecationWarning: Call to deprecated `syn0` (Attribute will be removed in 4.0.0, use self.wv.vectors instead).\n",
            "  if __name__ == '__main__':\n"
          ],
          "name": "stderr"
        },
        {
          "output_type": "stream",
          "text": [
            "Result embedding shape: (85, 100)\n",
            "\n",
            "Preparing the data for LSTM...\n",
            "x_train shape: (6899, 890)\n",
            "x_test shape: (767, 890)\n"
          ],
          "name": "stdout"
        }
      ]
    },
    {
      "cell_type": "code",
      "metadata": {
        "id": "5udJ5P7JN3Hv"
      },
      "source": [
        "# x_train[1]"
      ],
      "execution_count": null,
      "outputs": []
    },
    {
      "cell_type": "code",
      "metadata": {
        "id": "ic4mdmmvGb32",
        "outputId": "63c6975b-5ff6-4991-8f7a-8be80cb20353",
        "colab": {
          "base_uri": "https://localhost:8080/"
        }
      },
      "source": [
        "print('y_train shape:', y_train.shape)\n",
        "print('y_test shape:', y_test.shape)\n",
        "\n",
        "print('vocab_size: {}'.format(vocab_size))\n",
        "print('emdedding_size: {}'.format(emdedding_size))\n"
      ],
      "execution_count": 51,
      "outputs": [
        {
          "output_type": "stream",
          "text": [
            "y_train shape: (6899,)\n",
            "y_test shape: (767,)\n",
            "vocab_size: 85\n",
            "emdedding_size: 100\n"
          ],
          "name": "stdout"
        }
      ]
    },
    {
      "cell_type": "markdown",
      "metadata": {
        "id": "jONFmMXrvFjO"
      },
      "source": [
        "## Create and build LSTM Recurrent Neural Network"
      ]
    },
    {
      "cell_type": "code",
      "metadata": {
        "id": "pibIcL87vGqg",
        "outputId": "89fd3ce4-3a1d-490a-8b9d-ead5c6d95b1f",
        "colab": {
          "base_uri": "https://localhost:8080/"
        }
      },
      "source": [
        "# We begin by defining the a empty stack. We'll use this for building our \n",
        "# network, later by layer.\n",
        "model = tf.keras.models.Sequential()\n",
        "\n",
        "# The Embedding Layer provides a spatial mapping (or Word Embedding) of all the \n",
        "# individual words in our training set. Words close to one another share context \n",
        "# and or meaning. This spatial mapping is learning during the training process.\n",
        "\n",
        " \n",
        "model.add(\n",
        "    tf.keras.layers.Embedding(\n",
        "        input_dim = vocab_size, # The size of our vocabulary \n",
        "        output_dim = emdedding_size, # Dimensions to which each words shall be mapped\n",
        "        weights=[pretrained_weights]\n",
        "    )\n",
        ")\n",
        " \n",
        "# Dropout layers fight overfitting and forces the model to learn multiple \n",
        "# representations of the same data by randomly disabling neurons in the \n",
        "# learning phase.\n",
        "model.add(\n",
        "    tf.keras.layers.Dropout(\n",
        "        rate=0.25 # Randomly disable 25% of neurons\n",
        "    )\n",
        ")\n",
        "\n",
        "# We are using a fast version of LSTM whih is optimised for GPUs. This layer \n",
        "# looks at the sequence of words in the review, along with their word embeddings\n",
        "# and uses both of these to determine to sentiment of a given review.\n",
        "model.add(\n",
        "    tf.compat.v1.keras.layers.CuDNNLSTM(\n",
        "        units=emdedding_size  \n",
        "    )\n",
        ")\n",
        "\n",
        "# Add a second dropout layer with the same aim as the first.\n",
        "model.add(\n",
        "    tf.keras.layers.Dropout(\n",
        "        rate=0.25 # Randomly disable 25% of neurons\n",
        "    )\n",
        ")\n",
        "\n",
        "# All LSTM units are connected to a single node in the dense layer. A sigmoid \n",
        "# activation function determines the output from this node - a value \n",
        "# between 0 and 1. Closer to 0 indicates a negative review. Closer to 1 \n",
        "# indicates a positive review.\n",
        "model.add(\n",
        "    tf.keras.layers.Dense(\n",
        "        units=vocab_size, # Single unit\n",
        "        activation='softmax' # Sigmoid activation function (output from 0 to 1)\n",
        "    )\n",
        ")\n",
        "\n",
        "# Compile the model\n",
        "model.compile(\n",
        "    loss=tf.keras.losses.binary_crossentropy, # loss function\n",
        "    optimizer=tf.keras.optimizers.Adam(), # optimiser function\n",
        "    metrics=['accuracy']) # reporting metric\n",
        "\n",
        "# Display a summary of the models structure\n",
        "model.summary()"
      ],
      "execution_count": 53,
      "outputs": [
        {
          "output_type": "stream",
          "text": [
            "Model: \"sequential_5\"\n",
            "_________________________________________________________________\n",
            "Layer (type)                 Output Shape              Param #   \n",
            "=================================================================\n",
            "embedding_5 (Embedding)      (None, None, 100)         8500      \n",
            "_________________________________________________________________\n",
            "dropout_6 (Dropout)          (None, None, 100)         0         \n",
            "_________________________________________________________________\n",
            "cu_dnnlstm_3 (CuDNNLSTM)     (None, 100)               80800     \n",
            "_________________________________________________________________\n",
            "dropout_7 (Dropout)          (None, 100)               0         \n",
            "_________________________________________________________________\n",
            "dense_3 (Dense)              (None, 85)                8585      \n",
            "=================================================================\n",
            "Total params: 97,885\n",
            "Trainable params: 97,885\n",
            "Non-trainable params: 0\n",
            "_________________________________________________________________\n"
          ],
          "name": "stdout"
        }
      ]
    },
    {
      "cell_type": "code",
      "metadata": {
        "id": "VvD185R-2_LZ",
        "outputId": "ef9eae82-6579-4f59-8e6f-beb1f937c917",
        "colab": {
          "base_uri": "https://localhost:8080/"
        }
      },
      "source": [
        "#x_train = np.array(x_train)\n",
        "#y_train = np.array(y_train)\n",
        "type(x_train)"
      ],
      "execution_count": 37,
      "outputs": [
        {
          "output_type": "execute_result",
          "data": {
            "text/plain": [
              "numpy.ndarray"
            ]
          },
          "metadata": {
            "tags": []
          },
          "execution_count": 37
        }
      ]
    },
    {
      "cell_type": "code",
      "metadata": {
        "id": "XBdg9IN56EHY",
        "outputId": "b56f9bfe-8461-4d31-f834-b902898bfecb",
        "colab": {
          "base_uri": "https://localhost:8080/"
        }
      },
      "source": [
        "type(y_train)"
      ],
      "execution_count": 14,
      "outputs": [
        {
          "output_type": "execute_result",
          "data": {
            "text/plain": [
              "pandas.core.series.Series"
            ]
          },
          "metadata": {
            "tags": []
          },
          "execution_count": 14
        }
      ]
    },
    {
      "cell_type": "code",
      "metadata": {
        "id": "l9qmgUn8PRkQ",
        "outputId": "80582750-73e9-46b7-c9e3-227b1ee882b6",
        "colab": {
          "base_uri": "https://localhost:8080/"
        }
      },
      "source": [
        "y_train"
      ],
      "execution_count": 39,
      "outputs": [
        {
          "output_type": "execute_result",
          "data": {
            "text/plain": [
              "5302    4\n",
              "6550    3\n",
              "2031    1\n",
              "3918    1\n",
              "1114    3\n",
              "       ..\n",
              "4062    1\n",
              "1347    3\n",
              "3456    3\n",
              "7535    0\n",
              "3584    6\n",
              "Name: emotion, Length: 6899, dtype: int64"
            ]
          },
          "metadata": {
            "tags": []
          },
          "execution_count": 39
        }
      ]
    },
    {
      "cell_type": "markdown",
      "metadata": {
        "id": "IC51lNHPwTcV"
      },
      "source": [
        "## Train the LSTM"
      ]
    },
    {
      "cell_type": "code",
      "metadata": {
        "id": "SIn2JdwGwW0t",
        "outputId": "b765ee65-acc1-46d8-8a60-013db4b25cd5",
        "colab": {
          "base_uri": "https://localhost:8080/"
        }
      },
      "source": [
        "# Train the LSTM on the training data\n",
        "history = model.fit(\n",
        "\n",
        "    # Training data : features (review) and classes (positive or negative)\n",
        "    x_train, y_train,\n",
        "                    \n",
        "    # Number of samples to work through before updating the \n",
        "    # internal model parameters via back propagation. The \n",
        "    # higher the batch, the more memory you need.\n",
        "    batch_size=64, \n",
        "\n",
        "    # An epoch is an iteration over the entire training data.\n",
        "    epochs=5, \n",
        "    \n",
        "    # The model will set apart his fraction of the training \n",
        "    # data, will not train on it, and will evaluate the loss\n",
        "    # and any model metrics on this data at the end of \n",
        "    # each epoch.\n",
        "    validation_split=0.2,\n",
        "    \n",
        "    verbose=1\n",
        ") "
      ],
      "execution_count": 54,
      "outputs": [
        {
          "output_type": "stream",
          "text": [
            "Epoch 1/5\n",
            "87/87 [==============================] - 13s 152ms/step - loss: 13.2660 - accuracy: 0.0141 - val_loss: 13.2112 - val_accuracy: 0.0000e+00\n",
            "Epoch 2/5\n",
            "87/87 [==============================] - 13s 149ms/step - loss: 13.2622 - accuracy: 0.0140 - val_loss: 13.2112 - val_accuracy: 0.0000e+00\n",
            "Epoch 3/5\n",
            "87/87 [==============================] - 13s 149ms/step - loss: 13.2620 - accuracy: 0.0121 - val_loss: 13.2112 - val_accuracy: 0.0000e+00\n",
            "Epoch 4/5\n",
            "87/87 [==============================] - 13s 150ms/step - loss: 13.2619 - accuracy: 0.0145 - val_loss: 13.2112 - val_accuracy: 0.0000e+00\n",
            "Epoch 5/5\n",
            "87/87 [==============================] - 13s 148ms/step - loss: 13.2618 - accuracy: 0.0118 - val_loss: 13.2112 - val_accuracy: 0.0000e+00\n"
          ],
          "name": "stdout"
        }
      ]
    },
    {
      "cell_type": "code",
      "metadata": {
        "id": "E0wsnI_mM86u",
        "outputId": "c7f77892-a9a5-403a-b418-dd2465a0cfbe",
        "colab": {
          "base_uri": "https://localhost:8080/",
          "height": 295
        }
      },
      "source": [
        "import matplotlib.pyplot as plt\n",
        "\n",
        "loss = history.history['loss']\n",
        "val_loss = history.history['val_loss']\n",
        "epochs = range(1, len(loss)+1)\n",
        "plt.plot(epochs, loss, label='Training loss')\n",
        "plt.plot(epochs, val_loss, label='Validation loss')\n",
        "plt.title('Training and validation loss')\n",
        "plt.xlabel('Epochs')\n",
        "plt.ylabel('Loss')\n",
        "plt.legend()\n",
        "plt.show();"
      ],
      "execution_count": 55,
      "outputs": [
        {
          "output_type": "display_data",
          "data": {
            "image/png": "[encoded data removed]",
            "text/plain": [
              "<Figure size 432x288 with 1 Axes>"
            ]
          },
          "metadata": {
            "tags": [],
            "needs_background": "light"
          }
        }
      ]
    },
    {
      "cell_type": "code",
      "metadata": {
        "id": "Ux2nBLzGNAxJ",
        "outputId": "fd1b7544-b0d6-4794-e297-5776d7269d9f",
        "colab": {
          "base_uri": "https://localhost:8080/",
          "height": 295
        }
      },
      "source": [
        "accuracy = history.history['accuracy']\n",
        "val_accuracy = history.history['val_accuracy']\n",
        "plt.plot(epochs, accuracy, label='Training accuracy')\n",
        "plt.plot(epochs, val_accuracy, label='Validation accuracy')\n",
        "plt.title('Training and validation accuracy')\n",
        "plt.ylabel('Accuracy')\n",
        "plt.xlabel('Epochs')\n",
        "plt.legend()\n",
        "plt.show();"
      ],
      "execution_count": 56,
      "outputs": [
        {
          "output_type": "display_data",
          "data": {
            "image/png": "[encoded data removed]",
            "text/plain": [
              "<Figure size 432x288 with 1 Axes>"
            ]
          },
          "metadata": {
            "tags": [],
            "needs_background": "light"
          }
        }
      ]
    },
    {
      "cell_type": "code",
      "metadata": {
        "id": "3taxOf6tNHjw",
        "outputId": "2409f3db-ca54-4dc9-b1ca-1f1d1741ba82",
        "colab": {
          "base_uri": "https://localhost:8080/"
        }
      },
      "source": [
        "predicted_classes"
      ],
      "execution_count": 45,
      "outputs": [
        {
          "output_type": "execute_result",
          "data": {
            "text/plain": [
              "array([70, 70, 70, ..., 70, 70, 70])"
            ]
          },
          "metadata": {
            "tags": []
          },
          "execution_count": 45
        }
      ]
    },
    {
      "cell_type": "code",
      "metadata": {
        "id": "7XqscrAg6fPF",
        "outputId": "23d494d2-572b-4c1b-ed2e-1c7911ab33c1",
        "colab": {
          "base_uri": "https://localhost:8080/"
        }
      },
      "source": [
        "# Get Model Predictions for test data\n",
        "from sklearn.metrics import classification_report\n",
        "\n",
        "predicted_classes = model.predict_classes(x_test)\n",
        "print(classification_report(y_test, predicted_classes))"
      ],
      "execution_count": 57,
      "outputs": [
        {
          "output_type": "stream",
          "text": [
            "              precision    recall  f1-score   support\n",
            "\n",
            "           0       0.00      0.00      0.00      98.0\n",
            "           1       0.00      0.00      0.00     100.0\n",
            "           2       0.00      0.00      0.00     109.0\n",
            "           3       0.00      0.00      0.00     118.0\n",
            "           4       0.00      0.00      0.00     116.0\n",
            "           5       0.00      0.00      0.00     110.0\n",
            "           6       0.00      0.00      0.00     116.0\n",
            "          49       0.00      0.00      0.00       0.0\n",
            "\n",
            "    accuracy                           0.00     767.0\n",
            "   macro avg       0.00      0.00      0.00     767.0\n",
            "weighted avg       0.00      0.00      0.00     767.0\n",
            "\n"
          ],
          "name": "stdout"
        },
        {
          "output_type": "stream",
          "text": [
            "/usr/local/lib/python3.6/dist-packages/sklearn/metrics/_classification.py:1272: UndefinedMetricWarning: Precision and F-score are ill-defined and being set to 0.0 in labels with no predicted samples. Use `zero_division` parameter to control this behavior.\n",
            "  _warn_prf(average, modifier, msg_start, len(result))\n",
            "/usr/local/lib/python3.6/dist-packages/sklearn/metrics/_classification.py:1272: UndefinedMetricWarning: Recall and F-score are ill-defined and being set to 0.0 in labels with no true samples. Use `zero_division` parameter to control this behavior.\n",
            "  _warn_prf(average, modifier, msg_start, len(result))\n"
          ],
          "name": "stderr"
        }
      ]
    },
    {
      "cell_type": "code",
      "metadata": {
        "id": "T___U27_68nl"
      },
      "source": [
        ""
      ],
      "execution_count": null,
      "outputs": []
    }
  ]
}