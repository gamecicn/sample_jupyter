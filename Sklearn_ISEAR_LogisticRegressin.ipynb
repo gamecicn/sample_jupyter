{
  "nbformat": 4,
  "nbformat_minor": 0,
  "metadata": {
    "colab": {
      "name": "Sklearn_ISEAR_LogisticRegressin.ipynb",
      "provenance": [],
      "collapsed_sections": [],
      "mount_file_id": "1Mqn4G6ZJJzafA8go6B7cQPf6tvMQC-Hd",
      "authorship_tag": "ABX9TyOZhzatD7vlrR7fEbl4lNMn",
      "include_colab_link": true
    },
    "kernelspec": {
      "name": "python3",
      "display_name": "Python 3"
    }
  },
  "cells": [
    {
      "cell_type": "markdown",
      "metadata": {
        "id": "view-in-github",
        "colab_type": "text"
      },
      "source": [
        "<a href=\"https://colab.research.google.com/github/gamecicn/sample_jupyter/blob/main/Sklearn_ISEAR_LogisticRegressin.ipynb\" target=\"_parent\"><img src=\"https://colab.research.google.com/assets/colab-badge.svg\" alt=\"Open In Colab\"/></a>"
      ]
    },
    {
      "cell_type": "code",
      "metadata": {
        "id": "1M0Vvl5GkPp4"
      },
      "source": [
        "from __future__ import absolute_import, division, print_function\n",
        "import tensorflow as tf\n",
        "import numpy as np\n",
        "import pandas as pd"
      ],
      "execution_count": 2,
      "outputs": []
    },
    {
      "cell_type": "code",
      "metadata": {
        "id": "AXSK7yDTnwFB"
      },
      "source": [
        "df = pd.read_csv('/content/drive/MyDrive/DS_data/ISEAR_clean.csv', sep=\",\")\n",
        "df.head(2)"
      ],
      "execution_count": null,
      "outputs": []
    },
    {
      "cell_type": "code",
      "metadata": {
        "colab": {
          "base_uri": "https://localhost:8080/"
        },
        "id": "HNy63aKgsC3y",
        "outputId": "7d2459b0-7acb-4765-c3a1-e7a05ce3d1ab"
      },
      "source": [
        "from sklearn.model_selection import train_test_split\n",
        "\n",
        "training_data, testing_data, y_train, y_test = train_test_split(df.text, df.emotion, test_size=0.3, random_state=123, shuffle=True)\n",
        "\n",
        "print(\"training size {}\".format(len(training_data)))\n",
        "print(\"testing size {}\".format(len(testing_data)))"
      ],
      "execution_count": 4,
      "outputs": [
        {
          "output_type": "stream",
          "text": [
            "training size 5366\n",
            "testing size 2300\n"
          ],
          "name": "stdout"
        }
      ]
    },
    {
      "cell_type": "code",
      "metadata": {
        "id": "-BVq9bqOtfka"
      },
      "source": [
        "# Vectorilize  \n",
        "from sklearn.feature_extraction.text import TfidfVectorizer\n",
        "\n",
        "# extract features\n",
        "vectorizer1 = TfidfVectorizer(stop_words = \"english\")\n",
        "x_train = vectorizer1.fit_transform(training_data)\n",
        "\n",
        "# Use training data's vocabulary to create test tf-idf matrix\n",
        "vectorizer2 = TfidfVectorizer(stop_words = \"english\", vocabulary=vectorizer1.vocabulary_)\n",
        "x_test = vectorizer2.fit_transform(testing_data)"
      ],
      "execution_count": 5,
      "outputs": []
    },
    {
      "cell_type": "code",
      "metadata": {
        "id": "wxpbsGUvtusi"
      },
      "source": [
        "# save the tf_idf vectorizer1\n",
        "import pickle\n",
        "\n",
        "with open(\"vocabulary.pkl\", 'wb') as handle:\n",
        "     pickle.dump(vectorizer1.vocabulary_, handle)"
      ],
      "execution_count": 6,
      "outputs": []
    },
    {
      "cell_type": "code",
      "metadata": {
        "id": "lhA6LvlzvG8e"
      },
      "source": [
        "# Take LogisticRegression as a baseline\n",
        "\n",
        "from sklearn.linear_model import LogisticRegression\n",
        "\n",
        "model_lr = LogisticRegression(random_state=0, max_iter=200 , solver='saga', penalty='elasticnet', l1_ratio=0.005).fit(x_train, y_train)\n",
        "predict_emotion = model_lr.predict(x_test)"
      ],
      "execution_count": 8,
      "outputs": []
    },
    {
      "cell_type": "code",
      "metadata": {
        "id": "PJr9H2Hu6x4y"
      },
      "source": [
        "res = pd.DataFrame( data = {\"answer\" : y_test, \"predict\" : predict_emotion})\n",
        "res.head()"
      ],
      "execution_count": null,
      "outputs": []
    },
    {
      "cell_type": "code",
      "metadata": {
        "id": "5uzN73aE60Il"
      },
      "source": [
        "from sklearn.tree import DecisionTreeClassifier\n",
        " \n",
        "test_pred = model_lr.predict(x_test)\n",
        "print(classification_report(y_test, test_pred))"
      ],
      "execution_count": null,
      "outputs": []
    }
  ]
}